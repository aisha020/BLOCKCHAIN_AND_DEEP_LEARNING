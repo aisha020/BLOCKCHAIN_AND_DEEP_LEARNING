{
 "cells": [
  {
   "cell_type": "code",
   "execution_count": 1,
   "metadata": {},
   "outputs": [],
   "source": [
    "## Keras for deep learning\n",
    "from keras.layers.core import Dense, Activation, Dropout\n",
    "from keras.layers.recurrent import LSTM\n",
    "from keras.layers import Bidirectional\n",
    "from keras.models import Sequential\n",
    "\n",
    "## Scikit learn for mapping metrics\n",
    "from sklearn.metrics import mean_squared_error\n",
    "\n",
    "#for logging\n",
    "import time\n",
    "\n",
    "##matrix math\n",
    "import numpy as np\n",
    "import math\n",
    "\n",
    "##plotting\n",
    "import matplotlib.pyplot as plt\n",
    "\n",
    "##data processing\n",
    "import pandas as pd"
   ]
  },
  {
   "cell_type": "code",
   "execution_count": 2,
   "metadata": {},
   "outputs": [],
   "source": [
    "def load_data(filename, sequence_length):\n",
    "    \n",
    "    #Read the data file\n",
    "    raw_data = pd.read_csv(filename, dtype = float).values\n",
    "    \n",
    "    #Change all zeros to the number before the zero occurs\n",
    "    for x in range(0, raw_data.shape[0]):\n",
    "        for y in range(0, raw_data.shape[1]):\n",
    "            if(raw_data[x][y] == 0):\n",
    "                raw_data[x][y] = raw_data[x-1][y]\n",
    "    \n",
    "    #Convert the file to a list\n",
    "    data = raw_data.tolist()\n",
    "    \n",
    "    #Convert the data to a 3D array (a x b x c) \n",
    "    #Where a is the number of days, b is the window size, and c is the number of features in the data file\n",
    "    result = []\n",
    "    for index in range(len(data) - sequence_length):\n",
    "        result.append(data[index: index + sequence_length])\n",
    "    \n",
    "    #Normalizing data by going through each window\n",
    "    #Every value in the window is divided by the first value in the window, and then 1 is subtracted\n",
    "    d0 = np.array(result)\n",
    "    dr = np.zeros_like(d0)\n",
    "    dr[:,1:,:] = d0[:,1:,:] / d0[:,0:1,:] - 1\n",
    "    \n",
    "    #Keeping the unnormalized prices for Y_test\n",
    "    #Useful when graphing bitcoin price over time later\n",
    "    start = 2400\n",
    "    end = int(dr.shape[0] + 1)\n",
    "    unnormalized_bases = d0[start:end,0:1,20]\n",
    "    \n",
    "    #Splitting data set into training (First 90% of data points) and testing data (last 10% of data points)\n",
    "    split_line = round(0.9 * dr.shape[0])\n",
    "    training_data = dr[:int(split_line), :]\n",
    "    \n",
    "    #Shuffle the data\n",
    "    np.random.shuffle(training_data)\n",
    "    \n",
    "    #Training Data\n",
    "    X_train = training_data[:, :-1]\n",
    "    Y_train = training_data[:, -1]\n",
    "    Y_train = Y_train[:, 20]\n",
    "    \n",
    "    #Testing data\n",
    "    X_test = dr[int(split_line):, :-1]\n",
    "    Y_test = dr[int(split_line):, 49, :]\n",
    "    Y_test = Y_test[:, 20]\n",
    "\n",
    "    #Get the day before Y_test's price\n",
    "    Y_daybefore = dr[int(split_line):, 48, :]\n",
    "    Y_daybefore = Y_daybefore[:, 20]\n",
    "    \n",
    "    #Get window size and sequence length\n",
    "    sequence_length = sequence_length\n",
    "    window_size = sequence_length - 1 #because the last value is reserved as the y value\n",
    "    \n",
    "    return X_train, Y_train, X_test, Y_test, Y_daybefore, unnormalized_bases, window_size"
   ]
  },
  {
   "cell_type": "code",
   "execution_count": 3,
   "metadata": {},
   "outputs": [],
   "source": [
    "def initialize_model(window_size, dropout_value, activation_function, loss_function, optimizer):\n",
    "    \n",
    "    #Create a Sequential model using Keras\n",
    "    model = Sequential()\n",
    "\n",
    "    #First recurrent layer with dropout\n",
    "    model.add(Bidirectional(LSTM(window_size, return_sequences=True), input_shape=(window_size, X_train.shape[-1]),))\n",
    "    model.add(Dropout(dropout_value))\n",
    "\n",
    "    #Second recurrent layer with dropout\n",
    "    model.add(Bidirectional(LSTM((window_size*2), return_sequences=True)))\n",
    "    model.add(Dropout(dropout_value))\n",
    "\n",
    "    #Third recurrent layer\n",
    "    model.add(Bidirectional(LSTM(window_size, return_sequences=False)))\n",
    "\n",
    "    #Output layer (returns the predicted value)\n",
    "    model.add(Dense(units=1))\n",
    "    \n",
    "    #Set activation function\n",
    "    model.add(Activation(activation_function))\n",
    "\n",
    "    #Set loss function and optimizer\n",
    "    model.compile(loss=loss_function, optimizer=optimizer)\n",
    "    \n",
    "    return model"
   ]
  },
  {
   "cell_type": "code",
   "execution_count": 4,
   "metadata": {},
   "outputs": [],
   "source": [
    "def fit_model(model, X_train, Y_train, batch_num, num_epoch, val_split):\n",
    "    \n",
    "    #Record the time the model starts training\n",
    "    start = time.time()\n",
    "\n",
    "    #Train the model on X_train and Y_train\n",
    "    model.fit(X_train, Y_train, batch_size= batch_num, epochs=num_epoch, validation_split= val_split)\n",
    "\n",
    "    #Get the time it took to train the model (in seconds)\n",
    "    training_time = int(math.floor(time.time() - start))\n",
    "    return model, training_time"
   ]
  },
  {
   "cell_type": "code",
   "execution_count": 5,
   "metadata": {},
   "outputs": [],
   "source": [
    "def test_model(model, X_test, Y_test, unnormalized_bases):\n",
    "    \n",
    "    #Test the model on X_Test\n",
    "    y_predict = model.predict(X_test)\n",
    "\n",
    "    #Create empty 2D arrays to store unnormalized values\n",
    "    real_y_test = np.zeros_like(Y_test)\n",
    "    real_y_predict = np.zeros_like(y_predict)\n",
    "\n",
    "    #Fill the 2D arrays with the real value and the predicted value by reversing the normalization process\n",
    "    for i in range(Y_test.shape[0]):\n",
    "        y = Y_test[i]\n",
    "        predict = y_predict[i]\n",
    "        real_y_test[i] = (y+1)*unnormalized_bases[i]\n",
    "        real_y_predict[i] = (predict+1)*unnormalized_bases[i]\n",
    "\n",
    "    #Plot of the predicted prices versus the real prices\n",
    "    fig = plt.figure(figsize=(10,5))\n",
    "    ax = fig.add_subplot(111)\n",
    "    ax.set_title(\"Bitcoin Price Over Time\")\n",
    "    plt.plot(real_y_predict, color = 'green', label = 'Predicted Price')\n",
    "    plt.plot(real_y_test, color = 'red', label = 'Real Price')\n",
    "    ax.set_ylabel(\"Price (USD)\")\n",
    "    ax.set_xlabel(\"Time (Days)\")\n",
    "    ax.legend()\n",
    "    \n",
    "    return y_predict, real_y_test, real_y_predict, fig"
   ]
  },
  {
   "cell_type": "code",
   "execution_count": 6,
   "metadata": {},
   "outputs": [],
   "source": [
    "def price_change(Y_daybefore, Y_test, y_predict):\n",
    "    \n",
    "    #Reshaping Y_daybefore and Y_test\n",
    "    Y_daybefore = np.reshape(Y_daybefore, (-1, 1))\n",
    "    Y_test = np.reshape(Y_test, (-1, 1))\n",
    "\n",
    "    #The difference between each predicted value and the value from the day before\n",
    "    delta_predict = (y_predict - Y_daybefore) / (1+Y_daybefore)\n",
    "\n",
    "    #The difference between each true value and the value from the day before\n",
    "    delta_real = (Y_test - Y_daybefore) / (1+Y_daybefore)\n",
    "\n",
    "    #Plotting the predicted percent change versus the real percent change\n",
    "    fig = plt.figure(figsize=(10, 6))\n",
    "    ax = fig.add_subplot(111)\n",
    "    ax.set_title(\"Percent Change in Bitcoin Price Per Day\")\n",
    "    plt.plot(delta_predict, color='green', label = 'Predicted Percent Change')\n",
    "    plt.plot(delta_real, color='red', label = 'Real Percent Change')\n",
    "    plt.ylabel(\"Percent Change\")\n",
    "    plt.xlabel(\"Time (Days)\")\n",
    "    ax.legend()\n",
    "    plt.show()\n",
    "    \n",
    "    return Y_daybefore, Y_test, delta_predict, delta_real, fig"
   ]
  },
  {
   "cell_type": "code",
   "execution_count": 7,
   "metadata": {},
   "outputs": [],
   "source": [
    "def binary_price(delta_predict, delta_real):\n",
    "    \n",
    "     #Empty arrays where a 1 represents an increase in price and a 0 represents a decrease in price\n",
    "    delta_predict_1_0 = np.empty(delta_predict.shape)\n",
    "    delta_real_1_0 = np.empty(delta_real.shape)\n",
    "\n",
    "    #If the change in price is greater than zero, store it as a 1\n",
    "    #If the change in price is less than zero, store it as a 0\n",
    "    for i in range(delta_predict.shape[0]):\n",
    "        if delta_predict[i][0] > 0:\n",
    "            delta_predict_1_0[i][0] = 1\n",
    "        else:\n",
    "            delta_predict_1_0[i][0] = 0\n",
    "    for i in range(delta_real.shape[0]):\n",
    "        if delta_real[i][0] > 0:\n",
    "            delta_real_1_0[i][0] = 1\n",
    "        else:\n",
    "            delta_real_1_0[i][0] = 0    \n",
    "\n",
    "    return delta_predict_1_0, delta_real_1_0"
   ]
  },
  {
   "cell_type": "code",
   "execution_count": 8,
   "metadata": {},
   "outputs": [],
   "source": [
    "def find_positives_negatives(delta_predict_1_0, delta_real_1_0):\n",
    "    \n",
    "    #Finding the number of false positive/negatives and true positives/negatives\n",
    "    true_pos = 0\n",
    "    false_pos = 0\n",
    "    true_neg = 0\n",
    "    false_neg = 0\n",
    "    for i in range(delta_real_1_0.shape[0]):\n",
    "        real = delta_real_1_0[i][0]\n",
    "        predicted = delta_predict_1_0[i][0]\n",
    "        if real == 1:\n",
    "            if predicted == 1:\n",
    "                true_pos += 1\n",
    "            else:\n",
    "                false_neg += 1\n",
    "        elif real == 0:\n",
    "            if predicted == 0:\n",
    "                true_neg += 1\n",
    "            else:\n",
    "                false_pos += 1\n",
    "    return true_pos, false_pos, true_neg, false_neg"
   ]
  },
  {
   "cell_type": "code",
   "execution_count": 9,
   "metadata": {},
   "outputs": [],
   "source": [
    "def calculate_statistics(true_pos, false_pos, true_neg, false_neg, y_predict, Y_test):\n",
    "    \n",
    "    precision = float(true_pos) / (true_pos + false_pos)\n",
    "    recall = float(true_pos) / (true_pos + false_neg)\n",
    "    F1 = float(2 * precision * recall) / (precision + recall)\n",
    "    #Get Mean Squared Error\n",
    "    MSE = mean_squared_error(y_predict.flatten(), Y_test.flatten())\n",
    "\n",
    "    return precision, recall, F1, MSE"
   ]
  },
  {
   "cell_type": "code",
   "execution_count": 10,
   "metadata": {},
   "outputs": [],
   "source": [
    "X_train, Y_train, X_test, Y_test, Y_daybefore, unnormalized_bases, window_size = load_data(\"D:\\s9\\data_mining\\FINAL_PROJECT\\Bitcoin_Data.csv\", 50)\n"
   ]
  },
  {
   "cell_type": "code",
   "execution_count": 11,
   "metadata": {},
   "outputs": [
    {
     "name": "stdout",
     "output_type": "stream",
     "text": [
      "(2988, 49, 37)\n",
      "(2988,)\n"
     ]
    }
   ],
   "source": [
    "print(X_train.shape)\n",
    "print(Y_train.shape)"
   ]
  },
  {
   "cell_type": "code",
   "execution_count": 12,
   "metadata": {},
   "outputs": [
    {
     "name": "stdout",
     "output_type": "stream",
     "text": [
      "(332, 49, 37)\n",
      "(332,)\n"
     ]
    }
   ],
   "source": [
    "print(X_test.shape)\n",
    "print(Y_test.shape)"
   ]
  },
  {
   "cell_type": "code",
   "execution_count": 13,
   "metadata": {},
   "outputs": [
    {
     "name": "stdout",
     "output_type": "stream",
     "text": [
      "(332,)\n",
      "(920, 1)\n",
      "49\n"
     ]
    }
   ],
   "source": [
    "print(Y_daybefore.shape)\n",
    "print(unnormalized_bases.shape)\n",
    "print(window_size)"
   ]
  },
  {
   "cell_type": "code",
   "execution_count": 14,
   "metadata": {},
   "outputs": [
    {
     "name": "stdout",
     "output_type": "stream",
     "text": [
      "Model: \"sequential\"\n",
      "_________________________________________________________________\n",
      " Layer (type)                Output Shape              Param #   \n",
      "=================================================================\n",
      " bidirectional (Bidirectiona  (None, 49, 98)           34104     \n",
      " l)                                                              \n",
      "                                                                 \n",
      " dropout (Dropout)           (None, 49, 98)            0         \n",
      "                                                                 \n",
      " bidirectional_1 (Bidirectio  (None, 49, 196)          154448    \n",
      " nal)                                                            \n",
      "                                                                 \n",
      " dropout_1 (Dropout)         (None, 49, 196)           0         \n",
      "                                                                 \n",
      " bidirectional_2 (Bidirectio  (None, 98)               96432     \n",
      " nal)                                                            \n",
      "                                                                 \n",
      " dense (Dense)               (None, 1)                 99        \n",
      "                                                                 \n",
      " activation (Activation)     (None, 1)                 0         \n",
      "                                                                 \n",
      "=================================================================\n",
      "Total params: 285,083\n",
      "Trainable params: 285,083\n",
      "Non-trainable params: 0\n",
      "_________________________________________________________________\n",
      "None\n"
     ]
    }
   ],
   "source": [
    "model = initialize_model(window_size, 0.2, 'linear', 'mse', 'adam')\n",
    "print(model.summary())"
   ]
  },
  {
   "cell_type": "code",
   "execution_count": 15,
   "metadata": {
    "scrolled": true
   },
   "outputs": [
    {
     "name": "stdout",
     "output_type": "stream",
     "text": [
      "Epoch 1/150\n",
      "2/2 [==============================] - 56s 21s/step - loss: 2.4214 - val_loss: 2.2192\n",
      "Epoch 2/150\n",
      "2/2 [==============================] - 24s 11s/step - loss: 1.8876 - val_loss: 1.9079\n",
      "Epoch 3/150\n",
      "2/2 [==============================] - 27s 14s/step - loss: 1.5369 - val_loss: 1.7593\n",
      "Epoch 4/150\n",
      "2/2 [==============================] - 24s 12s/step - loss: 1.3493 - val_loss: 1.5823\n",
      "Epoch 5/150\n",
      "2/2 [==============================] - 24s 11s/step - loss: 1.1983 - val_loss: 1.4143\n",
      "Epoch 6/150\n",
      "2/2 [==============================] - 25s 12s/step - loss: 1.0623 - val_loss: 1.2769\n",
      "Epoch 7/150\n",
      "2/2 [==============================] - 25s 12s/step - loss: 0.9547 - val_loss: 1.1253\n",
      "Epoch 8/150\n",
      "2/2 [==============================] - 26s 13s/step - loss: 0.8258 - val_loss: 1.0006\n",
      "Epoch 9/150\n",
      "2/2 [==============================] - 25s 12s/step - loss: 0.7540 - val_loss: 0.8919\n",
      "Epoch 10/150\n",
      "2/2 [==============================] - 26s 12s/step - loss: 0.6535 - val_loss: 0.7992\n",
      "Epoch 11/150\n",
      "2/2 [==============================] - 28s 13s/step - loss: 0.5603 - val_loss: 0.6792\n",
      "Epoch 12/150\n",
      "2/2 [==============================] - 29s 14s/step - loss: 0.4495 - val_loss: 0.5648\n",
      "Epoch 13/150\n",
      "2/2 [==============================] - 29s 13s/step - loss: 0.3975 - val_loss: 0.4920\n",
      "Epoch 14/150\n",
      "2/2 [==============================] - 27s 13s/step - loss: 0.3341 - val_loss: 0.4336\n",
      "Epoch 15/150\n",
      "2/2 [==============================] - 27s 13s/step - loss: 0.2791 - val_loss: 0.3858\n",
      "Epoch 16/150\n",
      "2/2 [==============================] - 27s 13s/step - loss: 0.2510 - val_loss: 0.3496\n",
      "Epoch 17/150\n",
      "2/2 [==============================] - 27s 13s/step - loss: 0.2344 - val_loss: 0.3117\n",
      "Epoch 18/150\n",
      "2/2 [==============================] - 29s 15s/step - loss: 0.2043 - val_loss: 0.3386\n",
      "Epoch 19/150\n",
      "2/2 [==============================] - 27s 13s/step - loss: 0.1945 - val_loss: 0.3104\n",
      "Epoch 20/150\n",
      "2/2 [==============================] - 28s 13s/step - loss: 0.1787 - val_loss: 0.2436\n",
      "Epoch 21/150\n",
      "2/2 [==============================] - 29s 13s/step - loss: 0.1729 - val_loss: 0.3787\n",
      "Epoch 22/150\n",
      "2/2 [==============================] - 28s 13s/step - loss: 0.1571 - val_loss: 0.4832\n",
      "Epoch 23/150\n",
      "2/2 [==============================] - 29s 13s/step - loss: 0.1485 - val_loss: 0.3473\n",
      "Epoch 24/150\n",
      "2/2 [==============================] - 29s 13s/step - loss: 0.1374 - val_loss: 0.2774\n",
      "Epoch 25/150\n",
      "2/2 [==============================] - 31s 14s/step - loss: 0.1373 - val_loss: 0.3579\n",
      "Epoch 26/150\n",
      "2/2 [==============================] - 29s 13s/step - loss: 0.1285 - val_loss: 0.3433\n",
      "Epoch 27/150\n",
      "2/2 [==============================] - 36s 19s/step - loss: 0.1212 - val_loss: 0.3152\n",
      "Epoch 28/150\n",
      "2/2 [==============================] - 38s 15s/step - loss: 0.1194 - val_loss: 0.3477\n",
      "Epoch 29/150\n",
      "2/2 [==============================] - 34s 15s/step - loss: 0.1138 - val_loss: 0.3738\n",
      "Epoch 30/150\n",
      "2/2 [==============================] - 35s 17s/step - loss: 0.1104 - val_loss: 0.3117\n",
      "Epoch 31/150\n",
      "2/2 [==============================] - 32s 14s/step - loss: 0.1043 - val_loss: 0.3289\n",
      "Epoch 32/150\n",
      "2/2 [==============================] - 38s 19s/step - loss: 0.1007 - val_loss: 0.4764\n",
      "Epoch 33/150\n",
      "2/2 [==============================] - 36s 17s/step - loss: 0.1002 - val_loss: 0.4044\n",
      "Epoch 34/150\n",
      "2/2 [==============================] - 35s 16s/step - loss: 0.0966 - val_loss: 0.3785\n",
      "Epoch 35/150\n",
      "2/2 [==============================] - 35s 16s/step - loss: 0.0898 - val_loss: 0.4096\n",
      "Epoch 36/150\n",
      "2/2 [==============================] - 35s 16s/step - loss: 0.0911 - val_loss: 0.3669\n",
      "Epoch 37/150\n",
      "2/2 [==============================] - 34s 15s/step - loss: 0.0859 - val_loss: 0.3295\n",
      "Epoch 38/150\n",
      "2/2 [==============================] - 33s 16s/step - loss: 0.0854 - val_loss: 0.3945\n",
      "Epoch 39/150\n",
      "2/2 [==============================] - 33s 15s/step - loss: 0.0828 - val_loss: 0.4092\n",
      "Epoch 40/150\n",
      "2/2 [==============================] - 34s 14s/step - loss: 0.0797 - val_loss: 0.3307\n",
      "Epoch 41/150\n",
      "2/2 [==============================] - 32s 15s/step - loss: 0.0779 - val_loss: 0.3449\n",
      "Epoch 42/150\n",
      "2/2 [==============================] - 32s 15s/step - loss: 0.0752 - val_loss: 0.3660\n",
      "Epoch 43/150\n",
      "2/2 [==============================] - 31s 15s/step - loss: 0.0754 - val_loss: 0.3131\n",
      "Epoch 44/150\n",
      "2/2 [==============================] - 34s 17s/step - loss: 0.0733 - val_loss: 0.3201\n",
      "Epoch 45/150\n",
      "2/2 [==============================] - 33s 15s/step - loss: 0.0684 - val_loss: 0.3651\n",
      "Epoch 46/150\n",
      "2/2 [==============================] - 33s 15s/step - loss: 0.0679 - val_loss: 0.3576\n",
      "Epoch 47/150\n",
      "2/2 [==============================] - 33s 15s/step - loss: 0.0656 - val_loss: 0.3223\n",
      "Epoch 48/150\n",
      "2/2 [==============================] - 40s 19s/step - loss: 0.0710 - val_loss: 0.3217\n",
      "Epoch 49/150\n",
      "2/2 [==============================] - 41s 21s/step - loss: 0.0622 - val_loss: 0.3145\n",
      "Epoch 50/150\n",
      "2/2 [==============================] - 39s 16s/step - loss: 0.0636 - val_loss: 0.3182\n",
      "Epoch 51/150\n",
      "2/2 [==============================] - 39s 16s/step - loss: 0.0637 - val_loss: 0.3366\n",
      "Epoch 52/150\n",
      "2/2 [==============================] - 33s 15s/step - loss: 0.0626 - val_loss: 0.2689\n",
      "Epoch 53/150\n",
      "2/2 [==============================] - 32s 15s/step - loss: 0.0576 - val_loss: 0.2324\n",
      "Epoch 54/150\n",
      "2/2 [==============================] - 32s 15s/step - loss: 0.0586 - val_loss: 0.2351\n",
      "Epoch 55/150\n",
      "2/2 [==============================] - 32s 15s/step - loss: 0.0587 - val_loss: 0.2068\n",
      "Epoch 56/150\n",
      "2/2 [==============================] - 34s 17s/step - loss: 0.0569 - val_loss: 0.2396\n",
      "Epoch 57/150\n",
      "2/2 [==============================] - 35s 16s/step - loss: 0.0544 - val_loss: 0.3630\n",
      "Epoch 58/150\n",
      "2/2 [==============================] - 34s 16s/step - loss: 0.0563 - val_loss: 0.3259\n",
      "Epoch 59/150\n",
      "2/2 [==============================] - 40s 16s/step - loss: 0.0552 - val_loss: 0.3013\n",
      "Epoch 60/150\n",
      "2/2 [==============================] - 35s 15s/step - loss: 0.0525 - val_loss: 0.3494\n",
      "Epoch 61/150\n",
      "2/2 [==============================] - 34s 16s/step - loss: 0.0530 - val_loss: 0.3460\n",
      "Epoch 62/150\n",
      "2/2 [==============================] - 34s 16s/step - loss: 0.0525 - val_loss: 0.3443\n",
      "Epoch 63/150\n",
      "2/2 [==============================] - 35s 16s/step - loss: 0.0516 - val_loss: 0.3670\n",
      "Epoch 64/150\n",
      "2/2 [==============================] - 35s 16s/step - loss: 0.0487 - val_loss: 0.3616\n",
      "Epoch 65/150\n",
      "2/2 [==============================] - 38s 19s/step - loss: 0.0506 - val_loss: 0.3496\n",
      "Epoch 66/150\n",
      "2/2 [==============================] - 39s 18s/step - loss: 0.0494 - val_loss: 0.4019\n",
      "Epoch 67/150\n",
      "2/2 [==============================] - 38s 17s/step - loss: 0.0485 - val_loss: 0.4230\n",
      "Epoch 68/150\n",
      "2/2 [==============================] - 38s 18s/step - loss: 0.0497 - val_loss: 0.3798\n",
      "Epoch 69/150\n",
      "2/2 [==============================] - 33s 14s/step - loss: 0.0466 - val_loss: 0.3654\n",
      "Epoch 70/150\n",
      "2/2 [==============================] - 28s 12s/step - loss: 0.0460 - val_loss: 0.3797\n",
      "Epoch 71/150\n",
      "2/2 [==============================] - 26s 12s/step - loss: 0.0442 - val_loss: 0.3630\n",
      "Epoch 72/150\n",
      "2/2 [==============================] - 33s 16s/step - loss: 0.0434 - val_loss: 0.3445\n",
      "Epoch 73/150\n",
      "2/2 [==============================] - 28s 13s/step - loss: 0.0439 - val_loss: 0.3419\n",
      "Epoch 74/150\n",
      "2/2 [==============================] - 32s 15s/step - loss: 0.0414 - val_loss: 0.3333\n",
      "Epoch 75/150\n",
      "2/2 [==============================] - 34s 16s/step - loss: 0.0417 - val_loss: 0.3330\n",
      "Epoch 76/150\n",
      "2/2 [==============================] - 36s 18s/step - loss: 0.0400 - val_loss: 0.3464\n",
      "Epoch 77/150\n",
      "2/2 [==============================] - 44s 23s/step - loss: 0.0388 - val_loss: 0.3558\n",
      "Epoch 78/150\n",
      "2/2 [==============================] - 36s 16s/step - loss: 0.0382 - val_loss: 0.3549\n",
      "Epoch 79/150\n",
      "2/2 [==============================] - 36s 16s/step - loss: 0.0378 - val_loss: 0.3486\n",
      "Epoch 80/150\n",
      "2/2 [==============================] - 41s 19s/step - loss: 0.0364 - val_loss: 0.3705\n",
      "Epoch 81/150\n",
      "2/2 [==============================] - 39s 18s/step - loss: 0.0362 - val_loss: 0.3727\n",
      "Epoch 82/150\n",
      "2/2 [==============================] - 38s 17s/step - loss: 0.0374 - val_loss: 0.3538\n",
      "Epoch 83/150\n",
      "2/2 [==============================] - 42s 19s/step - loss: 0.0346 - val_loss: 0.3736\n"
     ]
    },
    {
     "name": "stdout",
     "output_type": "stream",
     "text": [
      "Epoch 84/150\n",
      "2/2 [==============================] - 38s 18s/step - loss: 0.0343 - val_loss: 0.3750\n",
      "Epoch 85/150\n",
      "2/2 [==============================] - 36s 17s/step - loss: 0.0334 - val_loss: 0.3671\n",
      "Epoch 86/150\n",
      "2/2 [==============================] - 36s 16s/step - loss: 0.0332 - val_loss: 0.3664\n",
      "Epoch 87/150\n",
      "2/2 [==============================] - 39s 18s/step - loss: 0.0331 - val_loss: 0.3451\n",
      "Epoch 88/150\n",
      "2/2 [==============================] - 37s 17s/step - loss: 0.0337 - val_loss: 0.3422\n",
      "Epoch 89/150\n",
      "2/2 [==============================] - 37s 18s/step - loss: 0.0309 - val_loss: 0.3603\n",
      "Epoch 90/150\n",
      "2/2 [==============================] - 37s 17s/step - loss: 0.0306 - val_loss: 0.3386\n",
      "Epoch 91/150\n",
      "2/2 [==============================] - 39s 18s/step - loss: 0.0300 - val_loss: 0.3733\n",
      "Epoch 92/150\n",
      "2/2 [==============================] - 36s 17s/step - loss: 0.0331 - val_loss: 0.3453\n",
      "Epoch 93/150\n",
      "2/2 [==============================] - 38s 17s/step - loss: 0.0297 - val_loss: 0.3180\n",
      "Epoch 94/150\n",
      "2/2 [==============================] - 39s 18s/step - loss: 0.0299 - val_loss: 0.3615\n",
      "Epoch 95/150\n",
      "2/2 [==============================] - 38s 18s/step - loss: 0.0294 - val_loss: 0.3482\n",
      "Epoch 96/150\n",
      "2/2 [==============================] - 37s 17s/step - loss: 0.0285 - val_loss: 0.3236\n",
      "Epoch 97/150\n",
      "2/2 [==============================] - 38s 17s/step - loss: 0.0279 - val_loss: 0.3684\n",
      "Epoch 98/150\n",
      "2/2 [==============================] - 39s 19s/step - loss: 0.0284 - val_loss: 0.3272\n",
      "Epoch 99/150\n",
      "2/2 [==============================] - 38s 17s/step - loss: 0.0278 - val_loss: 0.3163\n",
      "Epoch 100/150\n",
      "2/2 [==============================] - 38s 18s/step - loss: 0.0267 - val_loss: 0.3562\n",
      "Epoch 101/150\n",
      "2/2 [==============================] - 38s 18s/step - loss: 0.0253 - val_loss: 0.3525\n",
      "Epoch 102/150\n",
      "2/2 [==============================] - 38s 18s/step - loss: 0.0248 - val_loss: 0.3425\n",
      "Epoch 103/150\n",
      "2/2 [==============================] - 38s 18s/step - loss: 0.0264 - val_loss: 0.3351\n",
      "Epoch 104/150\n",
      "2/2 [==============================] - 38s 17s/step - loss: 0.0248 - val_loss: 0.3441\n",
      "Epoch 105/150\n",
      "2/2 [==============================] - 38s 17s/step - loss: 0.0252 - val_loss: 0.3706\n",
      "Epoch 106/150\n",
      "2/2 [==============================] - 37s 17s/step - loss: 0.0242 - val_loss: 0.3705\n",
      "Epoch 107/150\n",
      "2/2 [==============================] - 38s 17s/step - loss: 0.0243 - val_loss: 0.3579\n",
      "Epoch 108/150\n",
      "2/2 [==============================] - 37s 18s/step - loss: 0.0227 - val_loss: 0.3561\n",
      "Epoch 109/150\n",
      "2/2 [==============================] - 37s 18s/step - loss: 0.0253 - val_loss: 0.3345\n",
      "Epoch 110/150\n",
      "2/2 [==============================] - 37s 17s/step - loss: 0.0213 - val_loss: 0.3020\n",
      "Epoch 111/150\n",
      "2/2 [==============================] - 56s 29s/step - loss: 0.0206 - val_loss: 0.3093\n",
      "Epoch 112/150\n",
      "2/2 [==============================] - 45s 18s/step - loss: 0.0215 - val_loss: 0.3247\n",
      "Epoch 113/150\n",
      "2/2 [==============================] - 40s 18s/step - loss: 0.0229 - val_loss: 0.2818\n",
      "Epoch 114/150\n",
      "2/2 [==============================] - 42s 19s/step - loss: 0.0210 - val_loss: 0.3127\n",
      "Epoch 115/150\n",
      "2/2 [==============================] - 40s 19s/step - loss: 0.0204 - val_loss: 0.3123\n",
      "Epoch 116/150\n",
      "2/2 [==============================] - 43s 21s/step - loss: 0.0203 - val_loss: 0.3134\n",
      "Epoch 117/150\n",
      "2/2 [==============================] - 44s 18s/step - loss: 0.0201 - val_loss: 0.3187\n",
      "Epoch 118/150\n",
      "2/2 [==============================] - 38s 17s/step - loss: 0.0196 - val_loss: 0.3303\n",
      "Epoch 119/150\n",
      "2/2 [==============================] - 37s 17s/step - loss: 0.0186 - val_loss: 0.3133\n",
      "Epoch 120/150\n",
      "2/2 [==============================] - 37s 18s/step - loss: 0.0184 - val_loss: 0.3152\n",
      "Epoch 121/150\n",
      "2/2 [==============================] - 35s 16s/step - loss: 0.0182 - val_loss: 0.3306\n",
      "Epoch 122/150\n",
      "2/2 [==============================] - 37s 17s/step - loss: 0.0188 - val_loss: 0.3512\n",
      "Epoch 123/150\n",
      "2/2 [==============================] - 36s 17s/step - loss: 0.0181 - val_loss: 0.3522\n",
      "Epoch 124/150\n",
      "2/2 [==============================] - 35s 16s/step - loss: 0.0166 - val_loss: 0.3470\n",
      "Epoch 125/150\n",
      "2/2 [==============================] - 38s 18s/step - loss: 0.0168 - val_loss: 0.3448\n",
      "Epoch 126/150\n",
      "2/2 [==============================] - 37s 16s/step - loss: 0.0166 - val_loss: 0.3526\n",
      "Epoch 127/150\n",
      "2/2 [==============================] - 36s 17s/step - loss: 0.0172 - val_loss: 0.3635\n",
      "Epoch 128/150\n",
      "2/2 [==============================] - 36s 16s/step - loss: 0.0176 - val_loss: 0.3704\n",
      "Epoch 129/150\n",
      "2/2 [==============================] - 36s 17s/step - loss: 0.0174 - val_loss: 0.3598\n",
      "Epoch 130/150\n",
      "2/2 [==============================] - 37s 17s/step - loss: 0.0157 - val_loss: 0.3541\n",
      "Epoch 131/150\n",
      "2/2 [==============================] - 36s 17s/step - loss: 0.0159 - val_loss: 0.3441\n",
      "Epoch 132/150\n",
      "2/2 [==============================] - 36s 17s/step - loss: 0.0160 - val_loss: 0.3534\n",
      "Epoch 133/150\n",
      "2/2 [==============================] - 35s 16s/step - loss: 0.0158 - val_loss: 0.3437\n",
      "Epoch 134/150\n",
      "2/2 [==============================] - 38s 18s/step - loss: 0.0172 - val_loss: 0.3517\n",
      "Epoch 135/150\n",
      "2/2 [==============================] - 41s 18s/step - loss: 0.0143 - val_loss: 0.3387\n",
      "Epoch 136/150\n",
      "2/2 [==============================] - 36s 17s/step - loss: 0.0156 - val_loss: 0.3141\n",
      "Epoch 137/150\n",
      "2/2 [==============================] - 35s 17s/step - loss: 0.0151 - val_loss: 0.3343\n",
      "Epoch 138/150\n",
      "2/2 [==============================] - 37s 19s/step - loss: 0.0153 - val_loss: 0.3721\n",
      "Epoch 139/150\n",
      "2/2 [==============================] - 41s 19s/step - loss: 0.0155 - val_loss: 0.3516\n",
      "Epoch 140/150\n",
      "2/2 [==============================] - 38s 17s/step - loss: 0.0151 - val_loss: 0.3524\n",
      "Epoch 141/150\n",
      "2/2 [==============================] - 36s 16s/step - loss: 0.0142 - val_loss: 0.3526\n",
      "Epoch 142/150\n",
      "2/2 [==============================] - 40s 18s/step - loss: 0.0140 - val_loss: 0.3334\n",
      "Epoch 143/150\n",
      "2/2 [==============================] - 38s 18s/step - loss: 0.0141 - val_loss: 0.3259\n",
      "Epoch 144/150\n",
      "2/2 [==============================] - 39s 18s/step - loss: 0.0142 - val_loss: 0.3501\n",
      "Epoch 145/150\n",
      "2/2 [==============================] - 39s 18s/step - loss: 0.0134 - val_loss: 0.3377\n",
      "Epoch 146/150\n",
      "2/2 [==============================] - 42s 18s/step - loss: 0.0130 - val_loss: 0.3436\n",
      "Epoch 147/150\n",
      "2/2 [==============================] - 39s 18s/step - loss: 0.0127 - val_loss: 0.3744\n",
      "Epoch 148/150\n",
      "2/2 [==============================] - 41s 18s/step - loss: 0.0132 - val_loss: 0.3696\n",
      "Epoch 149/150\n",
      "2/2 [==============================] - 38s 18s/step - loss: 0.0128 - val_loss: 0.3492\n",
      "Epoch 150/150\n",
      "2/2 [==============================] - 41s 21s/step - loss: 0.0127 - val_loss: 0.3589\n",
      "Training time 5303 seconds\n"
     ]
    }
   ],
   "source": [
    "model, training_time = fit_model(model, X_train, Y_train, 1600, 150, .05)\n",
    "\n",
    "#Print the training time\n",
    "print(\"Training time\", training_time, \"seconds\")"
   ]
  },
  {
   "cell_type": "code",
   "execution_count": 16,
   "metadata": {},
   "outputs": [],
   "source": [
    "model.save(\"D:\\s9\\data_mining\\FINAL_PROJECT\\ourmodel.h5\")\n"
   ]
  },
  {
   "cell_type": "code",
   "execution_count": 17,
   "metadata": {},
   "outputs": [
    {
     "data": {
      "image/png": "[encoded data removed]",
      "text/plain": [
       "<Figure size 720x360 with 1 Axes>"
      ]
     },
     "metadata": {
      "needs_background": "light"
     },
     "output_type": "display_data"
    }
   ],
   "source": [
    "y_predict, real_y_test, real_y_predict, fig1 = test_model(model, X_test, Y_test, unnormalized_bases)\n",
    "\n",
    "#Show the plot\n",
    "plt.show(fig1)"
   ]
  },
  {
   "cell_type": "code",
   "execution_count": 18,
   "metadata": {},
   "outputs": [
    {
     "data": {
      "image/png": "[encoded data removed]",
      "text/plain": [
       "<Figure size 720x432 with 1 Axes>"
      ]
     },
     "metadata": {
      "needs_background": "light"
     },
     "output_type": "display_data"
    }
   ],
   "source": [
    "Y_daybefore, Y_test, delta_predict, delta_real, fig2 = price_change(Y_daybefore, Y_test, y_predict)\n",
    "\n",
    "#Show the plot\n",
    "plt.show(fig2)"
   ]
  },
  {
   "cell_type": "code",
   "execution_count": 19,
   "metadata": {},
   "outputs": [
    {
     "name": "stdout",
     "output_type": "stream",
     "text": [
      "(332, 1)\n",
      "(332, 1)\n"
     ]
    }
   ],
   "source": [
    "delta_predict_1_0, delta_real_1_0 = binary_price(delta_predict, delta_real)\n",
    "\n",
    "print(delta_predict_1_0.shape)\n",
    "print(delta_real_1_0.shape)"
   ]
  },
  {
   "cell_type": "code",
   "execution_count": 20,
   "metadata": {},
   "outputs": [
    {
     "name": "stdout",
     "output_type": "stream",
     "text": [
      "True positives: 84\n",
      "False positives: 32\n",
      "True negatives: 45\n",
      "False negatives: 39\n"
     ]
    }
   ],
   "source": [
    "true_pos, false_pos, true_neg, false_neg = find_positives_negatives(delta_predict_1_0, delta_real_1_0)\n",
    "print(\"True positives:\", true_pos)\n",
    "print(\"False positives:\", false_pos)\n",
    "print(\"True negatives:\", true_neg)\n",
    "print(\"False negatives:\", false_neg)"
   ]
  },
  {
   "cell_type": "code",
   "execution_count": 21,
   "metadata": {},
   "outputs": [
    {
     "name": "stdout",
     "output_type": "stream",
     "text": [
      "Precision: 0.7241379310344828\n"
     ]
    }
   ],
   "source": [
    "precision, recall, F1, MSE = calculate_statistics(true_pos, false_pos, true_neg, false_neg, y_predict, Y_test)\n",
    "print(\"Precision:\", precision)\n"
   ]
  },
  {
   "cell_type": "code",
   "execution_count": 22,
   "metadata": {},
   "outputs": [
    {
     "name": "stdout",
     "output_type": "stream",
     "text": [
      "Recall: 0.6829268292682927\n",
      "F1 score: 0.7029288702928871\n",
      "Mean Squared Error: 0.10651596577361128\n"
     ]
    }
   ],
   "source": [
    "print(\"Recall:\", recall)\n",
    "print(\"F1 score:\", F1)\n",
    "print(\"Mean Squared Error:\", MSE)"
   ]
  },
  {
   "cell_type": "code",
   "execution_count": null,
   "metadata": {},
   "outputs": [],
   "source": []
  }
 ],
 "metadata": {
  "kernelspec": {
   "display_name": "Python 3",
   "language": "python",
   "name": "python3"
  },
  "language_info": {
   "codemirror_mode": {
    "name": "ipython",
    "version": 3
   },
   "file_extension": ".py",
   "mimetype": "text/x-python",
   "name": "python",
   "nbconvert_exporter": "python",
   "pygments_lexer": "ipython3",
   "version": "3.8.5"
  }
 },
 "nbformat": 4,
 "nbformat_minor": 4
}
